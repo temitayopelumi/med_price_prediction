{
 "cells": [
  {
   "cell_type": "code",
   "execution_count": 4,
   "metadata": {},
   "outputs": [],
   "source": [
    "import pandas as pd"
   ]
  },
  {
   "cell_type": "code",
   "execution_count": 14,
   "metadata": {},
   "outputs": [],
   "source": [
    "import matplotlib.pyplot as plt\n",
    "import numpy as np"
   ]
  },
  {
   "cell_type": "code",
   "execution_count": 6,
   "metadata": {},
   "outputs": [],
   "source": [
    "data = pd.read_csv('data.csv')"
   ]
  },
  {
   "cell_type": "code",
   "execution_count": 7,
   "metadata": {},
   "outputs": [
    {
     "data": {
      "text/html": [
       "<div>\n",
       "<style scoped>\n",
       "    .dataframe tbody tr th:only-of-type {\n",
       "        vertical-align: middle;\n",
       "    }\n",
       "\n",
       "    .dataframe tbody tr th {\n",
       "        vertical-align: top;\n",
       "    }\n",
       "\n",
       "    .dataframe thead th {\n",
       "        text-align: right;\n",
       "    }\n",
       "</style>\n",
       "<table border=\"1\" class=\"dataframe\">\n",
       "  <thead>\n",
       "    <tr style=\"text-align: right;\">\n",
       "      <th></th>\n",
       "      <th>CRIM</th>\n",
       "      <th>ZN</th>\n",
       "      <th>INDUS</th>\n",
       "      <th>CHAS</th>\n",
       "      <th>NOX</th>\n",
       "      <th>RM</th>\n",
       "      <th>AGE</th>\n",
       "      <th>DIS</th>\n",
       "      <th>RAD</th>\n",
       "      <th>TAX</th>\n",
       "      <th>PTRATIO</th>\n",
       "      <th>B</th>\n",
       "      <th>LSTAT</th>\n",
       "      <th>MEDV</th>\n",
       "    </tr>\n",
       "  </thead>\n",
       "  <tbody>\n",
       "    <tr>\n",
       "      <th>0</th>\n",
       "      <td>0.00632</td>\n",
       "      <td>18.0</td>\n",
       "      <td>2.31</td>\n",
       "      <td>0</td>\n",
       "      <td>0.538</td>\n",
       "      <td>6.575</td>\n",
       "      <td>65.2</td>\n",
       "      <td>4.0900</td>\n",
       "      <td>1</td>\n",
       "      <td>296</td>\n",
       "      <td>15.3</td>\n",
       "      <td>396.90</td>\n",
       "      <td>4.98</td>\n",
       "      <td>24.0</td>\n",
       "    </tr>\n",
       "    <tr>\n",
       "      <th>1</th>\n",
       "      <td>0.02731</td>\n",
       "      <td>0.0</td>\n",
       "      <td>7.07</td>\n",
       "      <td>0</td>\n",
       "      <td>0.469</td>\n",
       "      <td>6.421</td>\n",
       "      <td>78.9</td>\n",
       "      <td>4.9671</td>\n",
       "      <td>2</td>\n",
       "      <td>242</td>\n",
       "      <td>17.8</td>\n",
       "      <td>396.90</td>\n",
       "      <td>9.14</td>\n",
       "      <td>21.6</td>\n",
       "    </tr>\n",
       "    <tr>\n",
       "      <th>2</th>\n",
       "      <td>0.02729</td>\n",
       "      <td>0.0</td>\n",
       "      <td>7.07</td>\n",
       "      <td>0</td>\n",
       "      <td>0.469</td>\n",
       "      <td>7.185</td>\n",
       "      <td>61.1</td>\n",
       "      <td>4.9671</td>\n",
       "      <td>2</td>\n",
       "      <td>242</td>\n",
       "      <td>17.8</td>\n",
       "      <td>392.83</td>\n",
       "      <td>4.03</td>\n",
       "      <td>34.7</td>\n",
       "    </tr>\n",
       "    <tr>\n",
       "      <th>3</th>\n",
       "      <td>0.03237</td>\n",
       "      <td>0.0</td>\n",
       "      <td>2.18</td>\n",
       "      <td>0</td>\n",
       "      <td>0.458</td>\n",
       "      <td>6.998</td>\n",
       "      <td>45.8</td>\n",
       "      <td>6.0622</td>\n",
       "      <td>3</td>\n",
       "      <td>222</td>\n",
       "      <td>18.7</td>\n",
       "      <td>394.63</td>\n",
       "      <td>2.94</td>\n",
       "      <td>33.4</td>\n",
       "    </tr>\n",
       "    <tr>\n",
       "      <th>4</th>\n",
       "      <td>0.06905</td>\n",
       "      <td>0.0</td>\n",
       "      <td>2.18</td>\n",
       "      <td>0</td>\n",
       "      <td>0.458</td>\n",
       "      <td>7.147</td>\n",
       "      <td>54.2</td>\n",
       "      <td>6.0622</td>\n",
       "      <td>3</td>\n",
       "      <td>222</td>\n",
       "      <td>18.7</td>\n",
       "      <td>396.90</td>\n",
       "      <td>5.33</td>\n",
       "      <td>36.2</td>\n",
       "    </tr>\n",
       "  </tbody>\n",
       "</table>\n",
       "</div>"
      ],
      "text/plain": [
       "      CRIM    ZN  INDUS  CHAS    NOX     RM   AGE     DIS  RAD  TAX  PTRATIO  \\\n",
       "0  0.00632  18.0   2.31     0  0.538  6.575  65.2  4.0900    1  296     15.3   \n",
       "1  0.02731   0.0   7.07     0  0.469  6.421  78.9  4.9671    2  242     17.8   \n",
       "2  0.02729   0.0   7.07     0  0.469  7.185  61.1  4.9671    2  242     17.8   \n",
       "3  0.03237   0.0   2.18     0  0.458  6.998  45.8  6.0622    3  222     18.7   \n",
       "4  0.06905   0.0   2.18     0  0.458  7.147  54.2  6.0622    3  222     18.7   \n",
       "\n",
       "        B  LSTAT  MEDV  \n",
       "0  396.90   4.98  24.0  \n",
       "1  396.90   9.14  21.6  \n",
       "2  392.83   4.03  34.7  \n",
       "3  394.63   2.94  33.4  \n",
       "4  396.90   5.33  36.2  "
      ]
     },
     "execution_count": 7,
     "metadata": {},
     "output_type": "execute_result"
    }
   ],
   "source": [
    "data.head()"
   ]
  },
  {
   "cell_type": "code",
   "execution_count": 8,
   "metadata": {},
   "outputs": [
    {
     "data": {
      "text/plain": [
       "(511, 14)"
      ]
     },
     "execution_count": 8,
     "metadata": {},
     "output_type": "execute_result"
    }
   ],
   "source": [
    "data.shape"
   ]
  },
  {
   "cell_type": "code",
   "execution_count": 9,
   "metadata": {},
   "outputs": [],
   "source": [
    "data=data.dropna()"
   ]
  },
  {
   "cell_type": "code",
   "execution_count": 10,
   "metadata": {},
   "outputs": [
    {
     "data": {
      "text/plain": [
       "CRIM       0\n",
       "ZN         0\n",
       "INDUS      0\n",
       "CHAS       0\n",
       "NOX        0\n",
       "RM         0\n",
       "AGE        0\n",
       "DIS        0\n",
       "RAD        0\n",
       "TAX        0\n",
       "PTRATIO    0\n",
       "B          0\n",
       "LSTAT      0\n",
       "MEDV       0\n",
       "dtype: int64"
      ]
     },
     "execution_count": 10,
     "metadata": {},
     "output_type": "execute_result"
    }
   ],
   "source": [
    "data.isnull().sum()"
   ]
  },
  {
   "cell_type": "code",
   "execution_count": 11,
   "metadata": {},
   "outputs": [
    {
     "name": "stdout",
     "output_type": "stream",
     "text": [
      "<class 'pandas.core.frame.DataFrame'>\n",
      "Int64Index: 506 entries, 0 to 510\n",
      "Data columns (total 14 columns):\n",
      " #   Column   Non-Null Count  Dtype  \n",
      "---  ------   --------------  -----  \n",
      " 0   CRIM     506 non-null    float64\n",
      " 1   ZN       506 non-null    float64\n",
      " 2   INDUS    506 non-null    float64\n",
      " 3   CHAS     506 non-null    int64  \n",
      " 4   NOX      506 non-null    float64\n",
      " 5   RM       506 non-null    float64\n",
      " 6   AGE      506 non-null    float64\n",
      " 7   DIS      506 non-null    float64\n",
      " 8   RAD      506 non-null    int64  \n",
      " 9   TAX      506 non-null    int64  \n",
      " 10  PTRATIO  506 non-null    float64\n",
      " 11  B        506 non-null    float64\n",
      " 12  LSTAT    506 non-null    float64\n",
      " 13  MEDV     506 non-null    float64\n",
      "dtypes: float64(11), int64(3)\n",
      "memory usage: 59.3 KB\n"
     ]
    }
   ],
   "source": [
    "data.info()"
   ]
  },
  {
   "cell_type": "markdown",
   "metadata": {},
   "source": [
    "Data Visualization"
   ]
  },
  {
   "cell_type": "code",
   "execution_count": 12,
   "metadata": {},
   "outputs": [],
   "source": [
    "columns=data.columns"
   ]
  },
  {
   "cell_type": "code",
   "execution_count": 15,
   "metadata": {},
   "outputs": [
    {
     "name": "stdout",
     "output_type": "stream",
     "text": [
      "Histogram for CRIM\n"
     ]
    },
    {
     "data": {
      "image/png": "[encoded data removed]",
      "text/plain": [
       "<Figure size 432x288 with 1 Axes>"
      ]
     },
     "metadata": {
      "needs_background": "light"
     },
     "output_type": "display_data"
    },
    {
     "name": "stdout",
     "output_type": "stream",
     "text": [
      "Histogram for ZN\n"
     ]
    },
    {
     "data": {
      "image/png": "[encoded data removed]",
      "text/plain": [
       "<Figure size 432x288 with 1 Axes>"
      ]
     },
     "metadata": {
      "needs_background": "light"
     },
     "output_type": "display_data"
    },
    {
     "name": "stdout",
     "output_type": "stream",
     "text": [
      "Histogram for INDUS\n"
     ]
    },
    {
     "data": {
      "image/png": "[encoded data removed]",
      "text/plain": [
       "<Figure size 432x288 with 1 Axes>"
      ]
     },
     "metadata": {
      "needs_background": "light"
     },
     "output_type": "display_data"
    },
    {
     "name": "stdout",
     "output_type": "stream",
     "text": [
      "Histogram for CHAS\n"
     ]
    },
    {
     "data": {
      "image/png": "[encoded data removed]",
      "text/plain": [
       "<Figure size 432x288 with 1 Axes>"
      ]
     },
     "metadata": {
      "needs_background": "light"
     },
     "output_type": "display_data"
    },
    {
     "name": "stdout",
     "output_type": "stream",
     "text": [
      "Histogram for NOX\n"
     ]
    },
    {
     "data": {
      "image/png": "[encoded data removed]",
      "text/plain": [
       "<Figure size 432x288 with 1 Axes>"
      ]
     },
     "metadata": {
      "needs_background": "light"
     },
     "output_type": "display_data"
    },
    {
     "name": "stdout",
     "output_type": "stream",
     "text": [
      "Histogram for RM\n"
     ]
    },
    {
     "data": {
      "image/png": "[encoded data removed]",
      "text/plain": [
       "<Figure size 432x288 with 1 Axes>"
      ]
     },
     "metadata": {
      "needs_background": "light"
     },
     "output_type": "display_data"
    },
    {
     "name": "stdout",
     "output_type": "stream",
     "text": [
      "Histogram for AGE\n"
     ]
    },
    {
     "data": {
      "image/png": "[encoded data removed]",
      "text/plain": [
       "<Figure size 432x288 with 1 Axes>"
      ]
     },
     "metadata": {
      "needs_background": "light"
     },
     "output_type": "display_data"
    },
    {
     "name": "stdout",
     "output_type": "stream",
     "text": [
      "Histogram for DIS\n"
     ]
    },
    {
     "data": {
      "image/png": "[encoded data removed]",
      "text/plain": [
       "<Figure size 432x288 with 1 Axes>"
      ]
     },
     "metadata": {
      "needs_background": "light"
     },
     "output_type": "display_data"
    },
    {
     "name": "stdout",
     "output_type": "stream",
     "text": [
      "Histogram for RAD\n"
     ]
    },
    {
     "data": {
      "image/png": "[encoded data removed]",
      "text/plain": [
       "<Figure size 432x288 with 1 Axes>"
      ]
     },
     "metadata": {
      "needs_background": "light"
     },
     "output_type": "display_data"
    },
    {
     "name": "stdout",
     "output_type": "stream",
     "text": [
      "Histogram for TAX\n"
     ]
    },
    {
     "data": {
      "image/png": "[encoded data removed]",
      "text/plain": [
       "<Figure size 432x288 with 1 Axes>"
      ]
     },
     "metadata": {
      "needs_background": "light"
     },
     "output_type": "display_data"
    },
    {
     "name": "stdout",
     "output_type": "stream",
     "text": [
      "Histogram for PTRATIO\n"
     ]
    },
    {
     "data": {
      "image/png": "[encoded data removed]",
      "text/plain": [
       "<Figure size 432x288 with 1 Axes>"
      ]
     },
     "metadata": {
      "needs_background": "light"
     },
     "output_type": "display_data"
    },
    {
     "name": "stdout",
     "output_type": "stream",
     "text": [
      "Histogram for B\n"
     ]
    },
    {
     "data": {
      "image/png": "[encoded data removed]",
      "text/plain": [
       "<Figure size 432x288 with 1 Axes>"
      ]
     },
     "metadata": {
      "needs_background": "light"
     },
     "output_type": "display_data"
    },
    {
     "name": "stdout",
     "output_type": "stream",
     "text": [
      "Histogram for LSTAT\n"
     ]
    },
    {
     "data": {
      "image/png": "[encoded data removed]",
      "text/plain": [
       "<Figure size 432x288 with 1 Axes>"
      ]
     },
     "metadata": {
      "needs_background": "light"
     },
     "output_type": "display_data"
    },
    {
     "name": "stdout",
     "output_type": "stream",
     "text": [
      "Histogram for MEDV\n"
     ]
    },
    {
     "data": {
      "image/png": "[encoded data removed]",
      "text/plain": [
       "<Figure size 432x288 with 1 Axes>"
      ]
     },
     "metadata": {
      "needs_background": "light"
     },
     "output_type": "display_data"
    }
   ],
   "source": [
    "for feat in columns:\n",
    "    plt.hist(data[feat])\n",
    "    print( 'Histogram for',feat)\n",
    "    plt.show()"
   ]
  },
  {
   "cell_type": "markdown",
   "metadata": {},
   "source": [
    "some of the continous features  are skweed. Let's transform them using log_transformation"
   ]
  },
  {
   "cell_type": "code",
   "execution_count": 18,
   "metadata": {},
   "outputs": [],
   "source": [
    "skewed_col = ['CRIM', 'NOX', 'DIS', 'LSTAT']"
   ]
  },
  {
   "cell_type": "code",
   "execution_count": 19,
   "metadata": {},
   "outputs": [],
   "source": [
    "for feat in skewed_col:\n",
    "    data['LOG_'+feat]=np.log(data[feat])"
   ]
  },
  {
   "cell_type": "markdown",
   "metadata": {},
   "source": [
    "Now we have transformed the data. let's drop the skewed data"
   ]
  },
  {
   "cell_type": "code",
   "execution_count": 20,
   "metadata": {},
   "outputs": [],
   "source": [
    "data.drop(skewed_col, axis=1, inplace=True)"
   ]
  },
  {
   "cell_type": "code",
   "execution_count": 21,
   "metadata": {},
   "outputs": [
    {
     "data": {
      "image/png": "[encoded data removed]",
      "text/plain": [
       "<Figure size 1440x1080 with 16 Axes>"
      ]
     },
     "metadata": {
      "needs_background": "light"
     },
     "output_type": "display_data"
    }
   ],
   "source": [
    "\n",
    "data.hist(bins=50,figsize=(20,15))\n",
    "plt.show()"
   ]
  },
  {
   "cell_type": "code",
   "execution_count": 22,
   "metadata": {},
   "outputs": [],
   "source": [
    "data['Tax_marge'] = pd.cut(data['TAX'],bins=[0.0,200.0 ,350.0 ,400.0  ,650.0 ,np.inf],labels=[1,2,3,4,5])"
   ]
  },
  {
   "cell_type": "code",
   "execution_count": 23,
   "metadata": {},
   "outputs": [
    {
     "data": {
      "text/plain": [
       "<matplotlib.axes._subplots.AxesSubplot at 0x26135375588>"
      ]
     },
     "execution_count": 23,
     "metadata": {},
     "output_type": "execute_result"
    },
    {
     "data": {
      "image/png": "[encoded data removed]",
      "text/plain": [
       "<Figure size 432x288 with 1 Axes>"
      ]
     },
     "metadata": {
      "needs_background": "light"
     },
     "output_type": "display_data"
    }
   ],
   "source": [
    "data['Tax_marge'].hist()"
   ]
  },
  {
   "cell_type": "code",
   "execution_count": 26,
   "metadata": {},
   "outputs": [],
   "source": [
    "data.drop('TAX', axis=1, inplace=True)"
   ]
  },
  {
   "cell_type": "code",
   "execution_count": 27,
   "metadata": {},
   "outputs": [],
   "source": [
    "corr_matrix= data.corr()"
   ]
  },
  {
   "cell_type": "code",
   "execution_count": 28,
   "metadata": {},
   "outputs": [
    {
     "data": {
      "text/html": [
       "<div>\n",
       "<style scoped>\n",
       "    .dataframe tbody tr th:only-of-type {\n",
       "        vertical-align: middle;\n",
       "    }\n",
       "\n",
       "    .dataframe tbody tr th {\n",
       "        vertical-align: top;\n",
       "    }\n",
       "\n",
       "    .dataframe thead th {\n",
       "        text-align: right;\n",
       "    }\n",
       "</style>\n",
       "<table border=\"1\" class=\"dataframe\">\n",
       "  <thead>\n",
       "    <tr style=\"text-align: right;\">\n",
       "      <th></th>\n",
       "      <th>ZN</th>\n",
       "      <th>INDUS</th>\n",
       "      <th>CHAS</th>\n",
       "      <th>RM</th>\n",
       "      <th>AGE</th>\n",
       "      <th>RAD</th>\n",
       "      <th>PTRATIO</th>\n",
       "      <th>B</th>\n",
       "      <th>MEDV</th>\n",
       "      <th>LOG_CRIM</th>\n",
       "      <th>LOG_NOX</th>\n",
       "      <th>LOG_DIS</th>\n",
       "      <th>LOG_LSTAT</th>\n",
       "    </tr>\n",
       "  </thead>\n",
       "  <tbody>\n",
       "    <tr>\n",
       "      <th>ZN</th>\n",
       "      <td>1.000000</td>\n",
       "      <td>-0.536888</td>\n",
       "      <td>-0.041824</td>\n",
       "      <td>0.307812</td>\n",
       "      <td>-0.567952</td>\n",
       "      <td>-0.309652</td>\n",
       "      <td>-0.394101</td>\n",
       "      <td>0.176625</td>\n",
       "      <td>0.339327</td>\n",
       "      <td>-0.518700</td>\n",
       "      <td>-0.570194</td>\n",
       "      <td>0.592102</td>\n",
       "      <td>-0.476598</td>\n",
       "    </tr>\n",
       "    <tr>\n",
       "      <th>INDUS</th>\n",
       "      <td>-0.536888</td>\n",
       "      <td>1.000000</td>\n",
       "      <td>0.061746</td>\n",
       "      <td>-0.392193</td>\n",
       "      <td>0.644182</td>\n",
       "      <td>0.594344</td>\n",
       "      <td>0.378739</td>\n",
       "      <td>-0.357787</td>\n",
       "      <td>-0.466094</td>\n",
       "      <td>0.731303</td>\n",
       "      <td>0.779443</td>\n",
       "      <td>-0.762026</td>\n",
       "      <td>0.592158</td>\n",
       "    </tr>\n",
       "    <tr>\n",
       "      <th>CHAS</th>\n",
       "      <td>-0.041824</td>\n",
       "      <td>0.061746</td>\n",
       "      <td>1.000000</td>\n",
       "      <td>0.089952</td>\n",
       "      <td>0.086664</td>\n",
       "      <td>-0.006803</td>\n",
       "      <td>-0.124780</td>\n",
       "      <td>0.050143</td>\n",
       "      <td>0.164175</td>\n",
       "      <td>0.027068</td>\n",
       "      <td>0.081730</td>\n",
       "      <td>-0.085063</td>\n",
       "      <td>-0.076413</td>\n",
       "    </tr>\n",
       "    <tr>\n",
       "      <th>RM</th>\n",
       "      <td>0.307812</td>\n",
       "      <td>-0.392193</td>\n",
       "      <td>0.089952</td>\n",
       "      <td>1.000000</td>\n",
       "      <td>-0.237335</td>\n",
       "      <td>-0.213078</td>\n",
       "      <td>-0.339755</td>\n",
       "      <td>0.127888</td>\n",
       "      <td>0.667695</td>\n",
       "      <td>-0.306748</td>\n",
       "      <td>-0.303604</td>\n",
       "      <td>0.252349</td>\n",
       "      <td>-0.647223</td>\n",
       "    </tr>\n",
       "    <tr>\n",
       "      <th>AGE</th>\n",
       "      <td>-0.567952</td>\n",
       "      <td>0.644182</td>\n",
       "      <td>0.086664</td>\n",
       "      <td>-0.237335</td>\n",
       "      <td>1.000000</td>\n",
       "      <td>0.456212</td>\n",
       "      <td>0.261170</td>\n",
       "      <td>-0.273739</td>\n",
       "      <td>-0.366717</td>\n",
       "      <td>0.657852</td>\n",
       "      <td>0.764641</td>\n",
       "      <td>-0.779027</td>\n",
       "      <td>0.587553</td>\n",
       "    </tr>\n",
       "    <tr>\n",
       "      <th>RAD</th>\n",
       "      <td>-0.309652</td>\n",
       "      <td>0.594344</td>\n",
       "      <td>-0.006803</td>\n",
       "      <td>-0.213078</td>\n",
       "      <td>0.456212</td>\n",
       "      <td>1.000000</td>\n",
       "      <td>0.441336</td>\n",
       "      <td>-0.441338</td>\n",
       "      <td>-0.382068</td>\n",
       "      <td>0.850577</td>\n",
       "      <td>0.623151</td>\n",
       "      <td>-0.557756</td>\n",
       "      <td>0.441893</td>\n",
       "    </tr>\n",
       "    <tr>\n",
       "      <th>PTRATIO</th>\n",
       "      <td>-0.394101</td>\n",
       "      <td>0.378739</td>\n",
       "      <td>-0.124780</td>\n",
       "      <td>-0.339755</td>\n",
       "      <td>0.261170</td>\n",
       "      <td>0.441336</td>\n",
       "      <td>1.000000</td>\n",
       "      <td>-0.176542</td>\n",
       "      <td>-0.451117</td>\n",
       "      <td>0.384941</td>\n",
       "      <td>0.228689</td>\n",
       "      <td>-0.239420</td>\n",
       "      <td>0.437964</td>\n",
       "    </tr>\n",
       "    <tr>\n",
       "      <th>B</th>\n",
       "      <td>0.176625</td>\n",
       "      <td>-0.357787</td>\n",
       "      <td>0.050143</td>\n",
       "      <td>0.127888</td>\n",
       "      <td>-0.273739</td>\n",
       "      <td>-0.441338</td>\n",
       "      <td>-0.176542</td>\n",
       "      <td>1.000000</td>\n",
       "      <td>0.319851</td>\n",
       "      <td>-0.477505</td>\n",
       "      <td>-0.379053</td>\n",
       "      <td>0.324109</td>\n",
       "      <td>-0.340087</td>\n",
       "    </tr>\n",
       "    <tr>\n",
       "      <th>MEDV</th>\n",
       "      <td>0.339327</td>\n",
       "      <td>-0.466094</td>\n",
       "      <td>0.164175</td>\n",
       "      <td>0.667695</td>\n",
       "      <td>-0.366717</td>\n",
       "      <td>-0.382068</td>\n",
       "      <td>-0.451117</td>\n",
       "      <td>0.319851</td>\n",
       "      <td>1.000000</td>\n",
       "      <td>-0.439553</td>\n",
       "      <td>-0.414457</td>\n",
       "      <td>0.279463</td>\n",
       "      <td>-0.732277</td>\n",
       "    </tr>\n",
       "    <tr>\n",
       "      <th>LOG_CRIM</th>\n",
       "      <td>-0.518700</td>\n",
       "      <td>0.731303</td>\n",
       "      <td>0.027068</td>\n",
       "      <td>-0.306748</td>\n",
       "      <td>0.657852</td>\n",
       "      <td>0.850577</td>\n",
       "      <td>0.384941</td>\n",
       "      <td>-0.477505</td>\n",
       "      <td>-0.439553</td>\n",
       "      <td>1.000000</td>\n",
       "      <td>0.806653</td>\n",
       "      <td>-0.745070</td>\n",
       "      <td>0.583992</td>\n",
       "    </tr>\n",
       "    <tr>\n",
       "      <th>LOG_NOX</th>\n",
       "      <td>-0.570194</td>\n",
       "      <td>0.779443</td>\n",
       "      <td>0.081730</td>\n",
       "      <td>-0.303604</td>\n",
       "      <td>0.764641</td>\n",
       "      <td>0.623151</td>\n",
       "      <td>0.228689</td>\n",
       "      <td>-0.379053</td>\n",
       "      <td>-0.414457</td>\n",
       "      <td>0.806653</td>\n",
       "      <td>1.000000</td>\n",
       "      <td>-0.861121</td>\n",
       "      <td>0.584957</td>\n",
       "    </tr>\n",
       "    <tr>\n",
       "      <th>LOG_DIS</th>\n",
       "      <td>0.592102</td>\n",
       "      <td>-0.762026</td>\n",
       "      <td>-0.085063</td>\n",
       "      <td>0.252349</td>\n",
       "      <td>-0.779027</td>\n",
       "      <td>-0.557756</td>\n",
       "      <td>-0.239420</td>\n",
       "      <td>0.324109</td>\n",
       "      <td>0.279463</td>\n",
       "      <td>-0.745070</td>\n",
       "      <td>-0.861121</td>\n",
       "      <td>1.000000</td>\n",
       "      <td>-0.523529</td>\n",
       "    </tr>\n",
       "    <tr>\n",
       "      <th>LOG_LSTAT</th>\n",
       "      <td>-0.476598</td>\n",
       "      <td>0.592158</td>\n",
       "      <td>-0.076413</td>\n",
       "      <td>-0.647223</td>\n",
       "      <td>0.587553</td>\n",
       "      <td>0.441893</td>\n",
       "      <td>0.437964</td>\n",
       "      <td>-0.340087</td>\n",
       "      <td>-0.732277</td>\n",
       "      <td>0.583992</td>\n",
       "      <td>0.584957</td>\n",
       "      <td>-0.523529</td>\n",
       "      <td>1.000000</td>\n",
       "    </tr>\n",
       "  </tbody>\n",
       "</table>\n",
       "</div>"
      ],
      "text/plain": [
       "                 ZN     INDUS      CHAS        RM       AGE       RAD  \\\n",
       "ZN         1.000000 -0.536888 -0.041824  0.307812 -0.567952 -0.309652   \n",
       "INDUS     -0.536888  1.000000  0.061746 -0.392193  0.644182  0.594344   \n",
       "CHAS      -0.041824  0.061746  1.000000  0.089952  0.086664 -0.006803   \n",
       "RM         0.307812 -0.392193  0.089952  1.000000 -0.237335 -0.213078   \n",
       "AGE       -0.567952  0.644182  0.086664 -0.237335  1.000000  0.456212   \n",
       "RAD       -0.309652  0.594344 -0.006803 -0.213078  0.456212  1.000000   \n",
       "PTRATIO   -0.394101  0.378739 -0.124780 -0.339755  0.261170  0.441336   \n",
       "B          0.176625 -0.357787  0.050143  0.127888 -0.273739 -0.441338   \n",
       "MEDV       0.339327 -0.466094  0.164175  0.667695 -0.366717 -0.382068   \n",
       "LOG_CRIM  -0.518700  0.731303  0.027068 -0.306748  0.657852  0.850577   \n",
       "LOG_NOX   -0.570194  0.779443  0.081730 -0.303604  0.764641  0.623151   \n",
       "LOG_DIS    0.592102 -0.762026 -0.085063  0.252349 -0.779027 -0.557756   \n",
       "LOG_LSTAT -0.476598  0.592158 -0.076413 -0.647223  0.587553  0.441893   \n",
       "\n",
       "            PTRATIO         B      MEDV  LOG_CRIM   LOG_NOX   LOG_DIS  \\\n",
       "ZN        -0.394101  0.176625  0.339327 -0.518700 -0.570194  0.592102   \n",
       "INDUS      0.378739 -0.357787 -0.466094  0.731303  0.779443 -0.762026   \n",
       "CHAS      -0.124780  0.050143  0.164175  0.027068  0.081730 -0.085063   \n",
       "RM        -0.339755  0.127888  0.667695 -0.306748 -0.303604  0.252349   \n",
       "AGE        0.261170 -0.273739 -0.366717  0.657852  0.764641 -0.779027   \n",
       "RAD        0.441336 -0.441338 -0.382068  0.850577  0.623151 -0.557756   \n",
       "PTRATIO    1.000000 -0.176542 -0.451117  0.384941  0.228689 -0.239420   \n",
       "B         -0.176542  1.000000  0.319851 -0.477505 -0.379053  0.324109   \n",
       "MEDV      -0.451117  0.319851  1.000000 -0.439553 -0.414457  0.279463   \n",
       "LOG_CRIM   0.384941 -0.477505 -0.439553  1.000000  0.806653 -0.745070   \n",
       "LOG_NOX    0.228689 -0.379053 -0.414457  0.806653  1.000000 -0.861121   \n",
       "LOG_DIS   -0.239420  0.324109  0.279463 -0.745070 -0.861121  1.000000   \n",
       "LOG_LSTAT  0.437964 -0.340087 -0.732277  0.583992  0.584957 -0.523529   \n",
       "\n",
       "           LOG_LSTAT  \n",
       "ZN         -0.476598  \n",
       "INDUS       0.592158  \n",
       "CHAS       -0.076413  \n",
       "RM         -0.647223  \n",
       "AGE         0.587553  \n",
       "RAD         0.441893  \n",
       "PTRATIO     0.437964  \n",
       "B          -0.340087  \n",
       "MEDV       -0.732277  \n",
       "LOG_CRIM    0.583992  \n",
       "LOG_NOX     0.584957  \n",
       "LOG_DIS    -0.523529  \n",
       "LOG_LSTAT   1.000000  "
      ]
     },
     "execution_count": 28,
     "metadata": {},
     "output_type": "execute_result"
    }
   ],
   "source": [
    "corr_matrix"
   ]
  },
  {
   "cell_type": "markdown",
   "metadata": {},
   "source": [
    "Feature scaling"
   ]
  },
  {
   "cell_type": "code",
   "execution_count": 29,
   "metadata": {},
   "outputs": [],
   "source": [
    "from sklearn.pipeline import Pipeline\n",
    "from sklearn.preprocessing import StandardScaler\n",
    "\n",
    "pipeline=Pipeline([\n",
    "    ('std_scaler', StandardScaler())\n",
    "])"
   ]
  },
  {
   "cell_type": "code",
   "execution_count": 32,
   "metadata": {},
   "outputs": [
    {
     "data": {
      "text/plain": [
       "354"
      ]
     },
     "execution_count": 32,
     "metadata": {},
     "output_type": "execute_result"
    }
   ],
   "source": [
    "data['AGE'].nunique()"
   ]
  },
  {
   "cell_type": "code",
   "execution_count": 33,
   "metadata": {},
   "outputs": [
    {
     "data": {
      "text/plain": [
       "count    506.000000\n",
       "mean      68.555731\n",
       "std       28.161573\n",
       "min        2.900000\n",
       "25%       45.025000\n",
       "50%       77.500000\n",
       "75%       93.975000\n",
       "max      100.000000\n",
       "Name: AGE, dtype: float64"
      ]
     },
     "execution_count": 33,
     "metadata": {},
     "output_type": "execute_result"
    }
   ],
   "source": [
    "data['AGE'].describe()"
   ]
  },
  {
   "cell_type": "code",
   "execution_count": 35,
   "metadata": {},
   "outputs": [],
   "source": [
    "data['AGE_CUT'] = pd.cut(data['AGE'],bins=[0.0,25.0 ,50.0 ,75.0  ,100.0 ,np.inf],labels=[1,2,3,4,5])"
   ]
  },
  {
   "cell_type": "code",
   "execution_count": 37,
   "metadata": {},
   "outputs": [
    {
     "data": {
      "text/plain": [
       "count     506\n",
       "unique      4\n",
       "top         4\n",
       "freq      263\n",
       "Name: AGE_CUT, dtype: int64"
      ]
     },
     "execution_count": 37,
     "metadata": {},
     "output_type": "execute_result"
    }
   ],
   "source": [
    "data['AGE_CUT'].describe()"
   ]
  },
  {
   "cell_type": "code",
   "execution_count": 38,
   "metadata": {},
   "outputs": [
    {
     "name": "stdout",
     "output_type": "stream",
     "text": [
      "<class 'pandas.core.frame.DataFrame'>\n",
      "Int64Index: 506 entries, 0 to 510\n",
      "Data columns (total 15 columns):\n",
      " #   Column     Non-Null Count  Dtype   \n",
      "---  ------     --------------  -----   \n",
      " 0   ZN         506 non-null    float64 \n",
      " 1   INDUS      506 non-null    float64 \n",
      " 2   CHAS       506 non-null    int64   \n",
      " 3   RM         506 non-null    float64 \n",
      " 4   AGE        506 non-null    float64 \n",
      " 5   RAD        506 non-null    int64   \n",
      " 6   PTRATIO    506 non-null    float64 \n",
      " 7   B          506 non-null    float64 \n",
      " 8   MEDV       506 non-null    float64 \n",
      " 9   LOG_CRIM   506 non-null    float64 \n",
      " 10  LOG_NOX    506 non-null    float64 \n",
      " 11  LOG_DIS    506 non-null    float64 \n",
      " 12  LOG_LSTAT  506 non-null    float64 \n",
      " 13  Tax_marge  506 non-null    category\n",
      " 14  AGE_CUT    506 non-null    category\n",
      "dtypes: category(2), float64(11), int64(2)\n",
      "memory usage: 56.7 KB\n"
     ]
    }
   ],
   "source": [
    "data.info()"
   ]
  },
  {
   "cell_type": "code",
   "execution_count": 39,
   "metadata": {},
   "outputs": [],
   "source": [
    "X=data.drop('MEDV', axis=1)"
   ]
  },
  {
   "cell_type": "code",
   "execution_count": 40,
   "metadata": {},
   "outputs": [],
   "source": [
    "y=data['MEDV']"
   ]
  },
  {
   "cell_type": "code",
   "execution_count": 44,
   "metadata": {},
   "outputs": [],
   "source": [
    "from sklearn.model_selection import train_test_split\n",
    "X_train, X_test, y_train, y_test=train_test_split(X_transformed, y, test_size=0.3, random_state=42)"
   ]
  },
  {
   "cell_type": "code",
   "execution_count": 41,
   "metadata": {},
   "outputs": [],
   "source": [
    "X_transformed=pipeline.fit_transform(X)"
   ]
  },
  {
   "cell_type": "code",
   "execution_count": 45,
   "metadata": {},
   "outputs": [
    {
     "data": {
      "text/plain": [
       "array([[-0.48448139, -1.31930869, -0.27259857, ..., -1.19276228,\n",
       "        -0.81466101, -0.12722087],\n",
       "       [-0.48448139,  2.12312813, -0.27259857, ...,  0.46845147,\n",
       "        -1.55473007, -0.12722087],\n",
       "       [-0.48448139, -0.62554106, -0.27259857, ...,  0.90843572,\n",
       "        -0.81466101,  0.83358154],\n",
       "       ...,\n",
       "       [ 3.3778    , -1.34277651, -0.27259857, ..., -1.43264086,\n",
       "        -1.55473007, -1.08802328],\n",
       "       [-0.48448139,  1.01574006, -0.27259857, ...,  1.17397297,\n",
       "         1.40554619,  0.83358154],\n",
       "       [-0.48448139, -0.3835291 , -0.27259857, ...,  0.89619692,\n",
       "        -0.07459194,  0.83358154]])"
      ]
     },
     "execution_count": 45,
     "metadata": {},
     "output_type": "execute_result"
    }
   ],
   "source": [
    "X_train"
   ]
  },
  {
   "cell_type": "code",
   "execution_count": 46,
   "metadata": {},
   "outputs": [],
   "source": [
    "from sklearn.linear_model import LinearRegression"
   ]
  },
  {
   "cell_type": "code",
   "execution_count": 47,
   "metadata": {},
   "outputs": [],
   "source": [
    "reg = LinearRegression()"
   ]
  },
  {
   "cell_type": "code",
   "execution_count": 48,
   "metadata": {},
   "outputs": [
    {
     "data": {
      "text/plain": [
       "LinearRegression(copy_X=True, fit_intercept=True, n_jobs=None, normalize=False)"
      ]
     },
     "execution_count": 48,
     "metadata": {},
     "output_type": "execute_result"
    }
   ],
   "source": [
    "reg.fit(X_train,y_train)"
   ]
  },
  {
   "cell_type": "code",
   "execution_count": 49,
   "metadata": {},
   "outputs": [
    {
     "data": {
      "text/plain": [
       "0.6510692607126949"
      ]
     },
     "execution_count": 49,
     "metadata": {},
     "output_type": "execute_result"
    }
   ],
   "source": [
    "reg.score(X_train, y_train)"
   ]
  },
  {
   "cell_type": "code",
   "execution_count": 50,
   "metadata": {},
   "outputs": [
    {
     "data": {
      "text/plain": [
       "0.7321435806729688"
      ]
     },
     "execution_count": 50,
     "metadata": {},
     "output_type": "execute_result"
    }
   ],
   "source": [
    "reg.score(X_test, y_test)"
   ]
  },
  {
   "cell_type": "code",
   "execution_count": 51,
   "metadata": {},
   "outputs": [],
   "source": [
    "f_pred = reg.predict(X_test)"
   ]
  },
  {
   "cell_type": "code",
   "execution_count": 52,
   "metadata": {},
   "outputs": [],
   "source": [
    "from sklearn.metrics import mean_squared_error\n",
    "final_mse=mean_squared_error(y_test,f_pred)\n",
    "final_rmse=np.sqrt(final_mse) #="
   ]
  },
  {
   "cell_type": "code",
   "execution_count": 53,
   "metadata": {},
   "outputs": [
    {
     "data": {
      "text/plain": [
       "4.267746650894215"
      ]
     },
     "execution_count": 53,
     "metadata": {},
     "output_type": "execute_result"
    }
   ],
   "source": [
    "final_rmse"
   ]
  },
  {
   "cell_type": "code",
   "execution_count": 54,
   "metadata": {},
   "outputs": [
    {
     "data": {
      "text/plain": [
       "SVR(C=100, cache_size=200, coef0=0.0, degree=3, epsilon=0.1, gamma=0.1,\n",
       "    kernel='rbf', max_iter=-1, shrinking=True, tol=0.001, verbose=False)"
      ]
     },
     "execution_count": 54,
     "metadata": {},
     "output_type": "execute_result"
    }
   ],
   "source": [
    "from sklearn.svm import SVR\n",
    "svr_rbf = SVR(kernel='rbf', C=100, gamma=0.1, epsilon=.1)\n",
    "svr_rbf.fit(X_train, y_train)"
   ]
  },
  {
   "cell_type": "code",
   "execution_count": 56,
   "metadata": {},
   "outputs": [],
   "source": [
    "pred=svr_rbf.predict(X_test)"
   ]
  },
  {
   "cell_type": "code",
   "execution_count": 57,
   "metadata": {},
   "outputs": [],
   "source": [
    "from sklearn.metrics import mean_squared_error\n",
    "final_mse=mean_squared_error(y_test,pred)\n",
    "final_rmse=np.sqrt(final_mse) #="
   ]
  },
  {
   "cell_type": "code",
   "execution_count": 58,
   "metadata": {},
   "outputs": [
    {
     "data": {
      "text/plain": [
       "3.2108009985073536"
      ]
     },
     "execution_count": 58,
     "metadata": {},
     "output_type": "execute_result"
    }
   ],
   "source": [
    "final_rmse"
   ]
  },
  {
   "cell_type": "code",
   "execution_count": 63,
   "metadata": {},
   "outputs": [],
   "source": [
    "from sklearn.model_selection import cross_val_score\n",
    "scores= cross_val_score(svr_rbf,X_train,y_train,scoring = 'neg_mean_squared_error',cv=10)"
   ]
  },
  {
   "cell_type": "code",
   "execution_count": 64,
   "metadata": {},
   "outputs": [
    {
     "name": "stdout",
     "output_type": "stream",
     "text": [
      "[-12.51106909  -5.41110922 -41.77048997 -16.03196104 -16.28428517\n",
      "  -8.79313641 -70.00693916 -18.87035561 -10.87966633 -24.3068947 ]\n"
     ]
    }
   ],
   "source": [
    "print(scores)"
   ]
  },
  {
   "cell_type": "code",
   "execution_count": 65,
   "metadata": {},
   "outputs": [
    {
     "name": "stdout",
     "output_type": "stream",
     "text": [
      "-22.486590669562922\n"
     ]
    }
   ],
   "source": [
    "print(scores.mean())"
   ]
  },
  {
   "cell_type": "code",
   "execution_count": null,
   "metadata": {},
   "outputs": [],
   "source": []
  }
 ],
 "metadata": {
  "kernelspec": {
   "display_name": "Python 3",
   "language": "python",
   "name": "python3"
  },
  "language_info": {
   "codemirror_mode": {
    "name": "ipython",
    "version": 3
   },
   "file_extension": ".py",
   "mimetype": "text/x-python",
   "name": "python",
   "nbconvert_exporter": "python",
   "pygments_lexer": "ipython3",
   "version": "3.7.3"
  }
 },
 "nbformat": 4,
 "nbformat_minor": 2
}
