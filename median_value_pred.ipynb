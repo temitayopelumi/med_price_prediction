{
 "cells": [
  {
   "cell_type": "markdown",
   "metadata": {},
   "source": [
    "## Introduction"
   ]
  },
  {
   "cell_type": "markdown",
   "metadata": {},
   "source": [
    "In this notebook, I will be using Regression models to predict value of homes. The task is supervised - we are given labeled training data to fit our model - and it is a regression task because the lables are continous. We are predicting the Median value of owner-occupied homes in $1000's"
   ]
  },
  {
   "cell_type": "markdown",
   "metadata": {},
   "source": [
    "## Problem statement"
   ]
  },
  {
   "cell_type": "markdown",
   "metadata": {},
   "source": [
    "We are predicting the median value of owner-occupied homes in $1000.  We have 13 continuous features. The dataset is a real-world data gotten from the StatLib library which is maintained at Carnegie Mellon University."
   ]
  },
  {
   "cell_type": "markdown",
   "metadata": {},
   "source": [
    "### Importing libraries"
   ]
  },
  {
   "cell_type": "code",
   "execution_count": 1,
   "metadata": {},
   "outputs": [
    {
     "name": "stderr",
     "output_type": "stream",
     "text": [
      "C:\\Users\\user\\Anaconda3\\lib\\site-packages\\statsmodels\\tools\\_testing.py:19: FutureWarning: pandas.util.testing is deprecated. Use the functions in the public API at pandas.testing instead.\n",
      "  import pandas.util.testing as tm\n"
     ]
    }
   ],
   "source": [
    "import pandas as pd\n",
    "import numpy as np\n",
    "import matplotlib.pyplot as plt\n",
    "import seaborn as sns\n",
    "from sklearn.linear_model import LinearRegression, Ridge,Lasso\n",
    "from sklearn.model_selection import train_test_split\n",
    "from sklearn.metrics import mean_squared_error\n",
    "from sklearn.svm import SVR\n",
    "from sklearn.preprocessing import MinMaxScaler,PowerTransformer\n",
    "from sklearn.model_selection import GridSearchCV\n",
    "from sklearn.model_selection import RepeatedKFold"
   ]
  },
  {
   "cell_type": "markdown",
   "metadata": {},
   "source": [
    "### Reading data"
   ]
  },
  {
   "cell_type": "code",
   "execution_count": 2,
   "metadata": {},
   "outputs": [],
   "source": [
    "data=pd.read_csv('data.csv')"
   ]
  },
  {
   "cell_type": "code",
   "execution_count": 3,
   "metadata": {},
   "outputs": [
    {
     "data": {
      "text/html": [
       "<div>\n",
       "<style scoped>\n",
       "    .dataframe tbody tr th:only-of-type {\n",
       "        vertical-align: middle;\n",
       "    }\n",
       "\n",
       "    .dataframe tbody tr th {\n",
       "        vertical-align: top;\n",
       "    }\n",
       "\n",
       "    .dataframe thead th {\n",
       "        text-align: right;\n",
       "    }\n",
       "</style>\n",
       "<table border=\"1\" class=\"dataframe\">\n",
       "  <thead>\n",
       "    <tr style=\"text-align: right;\">\n",
       "      <th></th>\n",
       "      <th>CRIM</th>\n",
       "      <th>ZN</th>\n",
       "      <th>INDUS</th>\n",
       "      <th>CHAS</th>\n",
       "      <th>NOX</th>\n",
       "      <th>RM</th>\n",
       "      <th>AGE</th>\n",
       "      <th>DIS</th>\n",
       "      <th>RAD</th>\n",
       "      <th>TAX</th>\n",
       "      <th>PTRATIO</th>\n",
       "      <th>B</th>\n",
       "      <th>LSTAT</th>\n",
       "      <th>MEDV</th>\n",
       "    </tr>\n",
       "  </thead>\n",
       "  <tbody>\n",
       "    <tr>\n",
       "      <th>0</th>\n",
       "      <td>0.00632</td>\n",
       "      <td>18.0</td>\n",
       "      <td>2.31</td>\n",
       "      <td>0</td>\n",
       "      <td>0.538</td>\n",
       "      <td>6.575</td>\n",
       "      <td>65.2</td>\n",
       "      <td>4.0900</td>\n",
       "      <td>1</td>\n",
       "      <td>296</td>\n",
       "      <td>15.3</td>\n",
       "      <td>396.90</td>\n",
       "      <td>4.98</td>\n",
       "      <td>24.0</td>\n",
       "    </tr>\n",
       "    <tr>\n",
       "      <th>1</th>\n",
       "      <td>0.02731</td>\n",
       "      <td>0.0</td>\n",
       "      <td>7.07</td>\n",
       "      <td>0</td>\n",
       "      <td>0.469</td>\n",
       "      <td>6.421</td>\n",
       "      <td>78.9</td>\n",
       "      <td>4.9671</td>\n",
       "      <td>2</td>\n",
       "      <td>242</td>\n",
       "      <td>17.8</td>\n",
       "      <td>396.90</td>\n",
       "      <td>9.14</td>\n",
       "      <td>21.6</td>\n",
       "    </tr>\n",
       "    <tr>\n",
       "      <th>2</th>\n",
       "      <td>0.02729</td>\n",
       "      <td>0.0</td>\n",
       "      <td>7.07</td>\n",
       "      <td>0</td>\n",
       "      <td>0.469</td>\n",
       "      <td>7.185</td>\n",
       "      <td>61.1</td>\n",
       "      <td>4.9671</td>\n",
       "      <td>2</td>\n",
       "      <td>242</td>\n",
       "      <td>17.8</td>\n",
       "      <td>392.83</td>\n",
       "      <td>4.03</td>\n",
       "      <td>34.7</td>\n",
       "    </tr>\n",
       "    <tr>\n",
       "      <th>3</th>\n",
       "      <td>0.03237</td>\n",
       "      <td>0.0</td>\n",
       "      <td>2.18</td>\n",
       "      <td>0</td>\n",
       "      <td>0.458</td>\n",
       "      <td>6.998</td>\n",
       "      <td>45.8</td>\n",
       "      <td>6.0622</td>\n",
       "      <td>3</td>\n",
       "      <td>222</td>\n",
       "      <td>18.7</td>\n",
       "      <td>394.63</td>\n",
       "      <td>2.94</td>\n",
       "      <td>33.4</td>\n",
       "    </tr>\n",
       "    <tr>\n",
       "      <th>4</th>\n",
       "      <td>0.06905</td>\n",
       "      <td>0.0</td>\n",
       "      <td>2.18</td>\n",
       "      <td>0</td>\n",
       "      <td>0.458</td>\n",
       "      <td>7.147</td>\n",
       "      <td>54.2</td>\n",
       "      <td>6.0622</td>\n",
       "      <td>3</td>\n",
       "      <td>222</td>\n",
       "      <td>18.7</td>\n",
       "      <td>396.90</td>\n",
       "      <td>5.33</td>\n",
       "      <td>36.2</td>\n",
       "    </tr>\n",
       "  </tbody>\n",
       "</table>\n",
       "</div>"
      ],
      "text/plain": [
       "      CRIM    ZN  INDUS  CHAS    NOX     RM   AGE     DIS  RAD  TAX  PTRATIO  \\\n",
       "0  0.00632  18.0   2.31     0  0.538  6.575  65.2  4.0900    1  296     15.3   \n",
       "1  0.02731   0.0   7.07     0  0.469  6.421  78.9  4.9671    2  242     17.8   \n",
       "2  0.02729   0.0   7.07     0  0.469  7.185  61.1  4.9671    2  242     17.8   \n",
       "3  0.03237   0.0   2.18     0  0.458  6.998  45.8  6.0622    3  222     18.7   \n",
       "4  0.06905   0.0   2.18     0  0.458  7.147  54.2  6.0622    3  222     18.7   \n",
       "\n",
       "        B  LSTAT  MEDV  \n",
       "0  396.90   4.98  24.0  \n",
       "1  396.90   9.14  21.6  \n",
       "2  392.83   4.03  34.7  \n",
       "3  394.63   2.94  33.4  \n",
       "4  396.90   5.33  36.2  "
      ]
     },
     "execution_count": 3,
     "metadata": {},
     "output_type": "execute_result"
    }
   ],
   "source": [
    "data.head()"
   ]
  },
  {
   "cell_type": "code",
   "execution_count": 4,
   "metadata": {},
   "outputs": [
    {
     "data": {
      "text/plain": [
       "(511, 14)"
      ]
     },
     "execution_count": 4,
     "metadata": {},
     "output_type": "execute_result"
    }
   ],
   "source": [
    "data.shape"
   ]
  },
  {
   "cell_type": "markdown",
   "metadata": {},
   "source": [
    "## check  for missing data"
   ]
  },
  {
   "cell_type": "code",
   "execution_count": 5,
   "metadata": {},
   "outputs": [
    {
     "data": {
      "text/plain": [
       "CRIM       0\n",
       "ZN         0\n",
       "INDUS      0\n",
       "CHAS       0\n",
       "NOX        0\n",
       "RM         5\n",
       "AGE        0\n",
       "DIS        0\n",
       "RAD        0\n",
       "TAX        0\n",
       "PTRATIO    0\n",
       "B          0\n",
       "LSTAT      0\n",
       "MEDV       0\n",
       "dtype: int64"
      ]
     },
     "execution_count": 5,
     "metadata": {},
     "output_type": "execute_result"
    }
   ],
   "source": [
    "data.isnull().sum()"
   ]
  },
  {
   "cell_type": "code",
   "execution_count": 6,
   "metadata": {},
   "outputs": [],
   "source": [
    "data=data.dropna()"
   ]
  },
  {
   "cell_type": "markdown",
   "metadata": {},
   "source": [
    "## data visualization "
   ]
  },
  {
   "cell_type": "code",
   "execution_count": 7,
   "metadata": {},
   "outputs": [
    {
     "data": {
      "image/png": "[encoded data removed]",
      "text/plain": [
       "<Figure size 1440x1080 with 16 Axes>"
      ]
     },
     "metadata": {
      "needs_background": "light"
     },
     "output_type": "display_data"
    }
   ],
   "source": [
    "data.hist(bins=50, figsize=(20, 15))\n",
    "plt.show()"
   ]
  },
  {
   "cell_type": "markdown",
   "metadata": {},
   "source": [
    "According to the histogram. most of the data are skewed.\n",
    "let's log transform them"
   ]
  },
  {
   "cell_type": "code",
   "execution_count": 8,
   "metadata": {},
   "outputs": [],
   "source": [
    "log_col = ['CRIM', 'NOX', 'DIS', 'LSTAT']"
   ]
  },
  {
   "cell_type": "code",
   "execution_count": 9,
   "metadata": {},
   "outputs": [],
   "source": [
    "for feat in log_col:\n",
    "    data['LOG_'+feat]=np.log(data[[feat, ]])"
   ]
  },
  {
   "cell_type": "code",
   "execution_count": 10,
   "metadata": {},
   "outputs": [],
   "source": [
    "data.drop(log_col, axis=1, inplace=True)"
   ]
  },
  {
   "cell_type": "markdown",
   "metadata": {},
   "source": [
    "let's arrange their ages into a smaller number of age intervals"
   ]
  },
  {
   "cell_type": "code",
   "execution_count": 11,
   "metadata": {},
   "outputs": [],
   "source": [
    "data['AGE_CUT'] = pd.cut(data['AGE'],bins=[0,25.0 ,50.0 ,75.0  ,100.0 ,np.inf],labels=[1,2,3,4,5])"
   ]
  },
  {
   "cell_type": "code",
   "execution_count": 12,
   "metadata": {},
   "outputs": [
    {
     "data": {
      "text/plain": [
       "(506, 15)"
      ]
     },
     "execution_count": 12,
     "metadata": {},
     "output_type": "execute_result"
    }
   ],
   "source": [
    "data.shape"
   ]
  },
  {
   "cell_type": "code",
   "execution_count": 13,
   "metadata": {},
   "outputs": [
    {
     "data": {
      "image/png": "[encoded data removed]",
      "text/plain": [
       "<Figure size 1440x1080 with 16 Axes>"
      ]
     },
     "metadata": {
      "needs_background": "light"
     },
     "output_type": "display_data"
    }
   ],
   "source": [
    "data.hist(bins=50, figsize=(20, 15))\n",
    "plt.show()"
   ]
  },
  {
   "cell_type": "markdown",
   "metadata": {},
   "source": [
    "## checking for correlations"
   ]
  },
  {
   "cell_type": "code",
   "execution_count": 14,
   "metadata": {},
   "outputs": [
    {
     "data": {
      "text/plain": [
       "MEDV         1.000000\n",
       "RM           0.667695\n",
       "ZN           0.339327\n",
       "B            0.319851\n",
       "LOG_DIS      0.279463\n",
       "CHAS         0.164175\n",
       "AGE         -0.366717\n",
       "RAD         -0.382068\n",
       "LOG_NOX     -0.414457\n",
       "LOG_CRIM    -0.439553\n",
       "PTRATIO     -0.451117\n",
       "TAX         -0.461959\n",
       "INDUS       -0.466094\n",
       "LOG_LSTAT   -0.732277\n",
       "Name: MEDV, dtype: float64"
      ]
     },
     "execution_count": 14,
     "metadata": {},
     "output_type": "execute_result"
    }
   ],
   "source": [
    "corr_matrix = data.corr()\n",
    "corr_matrix['MEDV'].sort_values(ascending=False)"
   ]
  },
  {
   "cell_type": "markdown",
   "metadata": {},
   "source": [
    "Rm  and Lstat has high correlaations with Medv"
   ]
  },
  {
   "cell_type": "code",
   "execution_count": 15,
   "metadata": {},
   "outputs": [
    {
     "data": {
      "text/html": [
       "<div>\n",
       "<style scoped>\n",
       "    .dataframe tbody tr th:only-of-type {\n",
       "        vertical-align: middle;\n",
       "    }\n",
       "\n",
       "    .dataframe tbody tr th {\n",
       "        vertical-align: top;\n",
       "    }\n",
       "\n",
       "    .dataframe thead th {\n",
       "        text-align: right;\n",
       "    }\n",
       "</style>\n",
       "<table border=\"1\" class=\"dataframe\">\n",
       "  <thead>\n",
       "    <tr style=\"text-align: right;\">\n",
       "      <th></th>\n",
       "      <th>ZN</th>\n",
       "      <th>INDUS</th>\n",
       "      <th>CHAS</th>\n",
       "      <th>RM</th>\n",
       "      <th>AGE</th>\n",
       "      <th>RAD</th>\n",
       "      <th>TAX</th>\n",
       "      <th>PTRATIO</th>\n",
       "      <th>B</th>\n",
       "      <th>MEDV</th>\n",
       "      <th>LOG_CRIM</th>\n",
       "      <th>LOG_NOX</th>\n",
       "      <th>LOG_DIS</th>\n",
       "      <th>LOG_LSTAT</th>\n",
       "    </tr>\n",
       "  </thead>\n",
       "  <tbody>\n",
       "    <tr>\n",
       "      <th>ZN</th>\n",
       "      <td>1.000000</td>\n",
       "      <td>-0.536888</td>\n",
       "      <td>-0.041824</td>\n",
       "      <td>0.307812</td>\n",
       "      <td>-0.567952</td>\n",
       "      <td>-0.309652</td>\n",
       "      <td>-0.312901</td>\n",
       "      <td>-0.394101</td>\n",
       "      <td>0.176625</td>\n",
       "      <td>0.339327</td>\n",
       "      <td>-0.518700</td>\n",
       "      <td>-0.570194</td>\n",
       "      <td>0.592102</td>\n",
       "      <td>-0.476598</td>\n",
       "    </tr>\n",
       "    <tr>\n",
       "      <th>INDUS</th>\n",
       "      <td>-0.536888</td>\n",
       "      <td>1.000000</td>\n",
       "      <td>0.061746</td>\n",
       "      <td>-0.392193</td>\n",
       "      <td>0.644182</td>\n",
       "      <td>0.594344</td>\n",
       "      <td>0.718784</td>\n",
       "      <td>0.378739</td>\n",
       "      <td>-0.357787</td>\n",
       "      <td>-0.466094</td>\n",
       "      <td>0.731303</td>\n",
       "      <td>0.779443</td>\n",
       "      <td>-0.762026</td>\n",
       "      <td>0.592158</td>\n",
       "    </tr>\n",
       "    <tr>\n",
       "      <th>CHAS</th>\n",
       "      <td>-0.041824</td>\n",
       "      <td>0.061746</td>\n",
       "      <td>1.000000</td>\n",
       "      <td>0.089952</td>\n",
       "      <td>0.086664</td>\n",
       "      <td>-0.006803</td>\n",
       "      <td>-0.035770</td>\n",
       "      <td>-0.124780</td>\n",
       "      <td>0.050143</td>\n",
       "      <td>0.164175</td>\n",
       "      <td>0.027068</td>\n",
       "      <td>0.081730</td>\n",
       "      <td>-0.085063</td>\n",
       "      <td>-0.076413</td>\n",
       "    </tr>\n",
       "    <tr>\n",
       "      <th>RM</th>\n",
       "      <td>0.307812</td>\n",
       "      <td>-0.392193</td>\n",
       "      <td>0.089952</td>\n",
       "      <td>1.000000</td>\n",
       "      <td>-0.237335</td>\n",
       "      <td>-0.213078</td>\n",
       "      <td>-0.293969</td>\n",
       "      <td>-0.339755</td>\n",
       "      <td>0.127888</td>\n",
       "      <td>0.667695</td>\n",
       "      <td>-0.306748</td>\n",
       "      <td>-0.303604</td>\n",
       "      <td>0.252349</td>\n",
       "      <td>-0.647223</td>\n",
       "    </tr>\n",
       "    <tr>\n",
       "      <th>AGE</th>\n",
       "      <td>-0.567952</td>\n",
       "      <td>0.644182</td>\n",
       "      <td>0.086664</td>\n",
       "      <td>-0.237335</td>\n",
       "      <td>1.000000</td>\n",
       "      <td>0.456212</td>\n",
       "      <td>0.505186</td>\n",
       "      <td>0.261170</td>\n",
       "      <td>-0.273739</td>\n",
       "      <td>-0.366717</td>\n",
       "      <td>0.657852</td>\n",
       "      <td>0.764641</td>\n",
       "      <td>-0.779027</td>\n",
       "      <td>0.587553</td>\n",
       "    </tr>\n",
       "    <tr>\n",
       "      <th>RAD</th>\n",
       "      <td>-0.309652</td>\n",
       "      <td>0.594344</td>\n",
       "      <td>-0.006803</td>\n",
       "      <td>-0.213078</td>\n",
       "      <td>0.456212</td>\n",
       "      <td>1.000000</td>\n",
       "      <td>0.910898</td>\n",
       "      <td>0.441336</td>\n",
       "      <td>-0.441338</td>\n",
       "      <td>-0.382068</td>\n",
       "      <td>0.850577</td>\n",
       "      <td>0.623151</td>\n",
       "      <td>-0.557756</td>\n",
       "      <td>0.441893</td>\n",
       "    </tr>\n",
       "    <tr>\n",
       "      <th>TAX</th>\n",
       "      <td>-0.312901</td>\n",
       "      <td>0.718784</td>\n",
       "      <td>-0.035770</td>\n",
       "      <td>-0.293969</td>\n",
       "      <td>0.505186</td>\n",
       "      <td>0.910898</td>\n",
       "      <td>1.000000</td>\n",
       "      <td>0.442510</td>\n",
       "      <td>-0.439917</td>\n",
       "      <td>-0.461959</td>\n",
       "      <td>0.826064</td>\n",
       "      <td>0.675883</td>\n",
       "      <td>-0.615545</td>\n",
       "      <td>0.506976</td>\n",
       "    </tr>\n",
       "    <tr>\n",
       "      <th>PTRATIO</th>\n",
       "      <td>-0.394101</td>\n",
       "      <td>0.378739</td>\n",
       "      <td>-0.124780</td>\n",
       "      <td>-0.339755</td>\n",
       "      <td>0.261170</td>\n",
       "      <td>0.441336</td>\n",
       "      <td>0.442510</td>\n",
       "      <td>1.000000</td>\n",
       "      <td>-0.176542</td>\n",
       "      <td>-0.451117</td>\n",
       "      <td>0.384941</td>\n",
       "      <td>0.228689</td>\n",
       "      <td>-0.239420</td>\n",
       "      <td>0.437964</td>\n",
       "    </tr>\n",
       "    <tr>\n",
       "      <th>B</th>\n",
       "      <td>0.176625</td>\n",
       "      <td>-0.357787</td>\n",
       "      <td>0.050143</td>\n",
       "      <td>0.127888</td>\n",
       "      <td>-0.273739</td>\n",
       "      <td>-0.441338</td>\n",
       "      <td>-0.439917</td>\n",
       "      <td>-0.176542</td>\n",
       "      <td>1.000000</td>\n",
       "      <td>0.319851</td>\n",
       "      <td>-0.477505</td>\n",
       "      <td>-0.379053</td>\n",
       "      <td>0.324109</td>\n",
       "      <td>-0.340087</td>\n",
       "    </tr>\n",
       "    <tr>\n",
       "      <th>MEDV</th>\n",
       "      <td>0.339327</td>\n",
       "      <td>-0.466094</td>\n",
       "      <td>0.164175</td>\n",
       "      <td>0.667695</td>\n",
       "      <td>-0.366717</td>\n",
       "      <td>-0.382068</td>\n",
       "      <td>-0.461959</td>\n",
       "      <td>-0.451117</td>\n",
       "      <td>0.319851</td>\n",
       "      <td>1.000000</td>\n",
       "      <td>-0.439553</td>\n",
       "      <td>-0.414457</td>\n",
       "      <td>0.279463</td>\n",
       "      <td>-0.732277</td>\n",
       "    </tr>\n",
       "    <tr>\n",
       "      <th>LOG_CRIM</th>\n",
       "      <td>-0.518700</td>\n",
       "      <td>0.731303</td>\n",
       "      <td>0.027068</td>\n",
       "      <td>-0.306748</td>\n",
       "      <td>0.657852</td>\n",
       "      <td>0.850577</td>\n",
       "      <td>0.826064</td>\n",
       "      <td>0.384941</td>\n",
       "      <td>-0.477505</td>\n",
       "      <td>-0.439553</td>\n",
       "      <td>1.000000</td>\n",
       "      <td>0.806653</td>\n",
       "      <td>-0.745070</td>\n",
       "      <td>0.583992</td>\n",
       "    </tr>\n",
       "    <tr>\n",
       "      <th>LOG_NOX</th>\n",
       "      <td>-0.570194</td>\n",
       "      <td>0.779443</td>\n",
       "      <td>0.081730</td>\n",
       "      <td>-0.303604</td>\n",
       "      <td>0.764641</td>\n",
       "      <td>0.623151</td>\n",
       "      <td>0.675883</td>\n",
       "      <td>0.228689</td>\n",
       "      <td>-0.379053</td>\n",
       "      <td>-0.414457</td>\n",
       "      <td>0.806653</td>\n",
       "      <td>1.000000</td>\n",
       "      <td>-0.861121</td>\n",
       "      <td>0.584957</td>\n",
       "    </tr>\n",
       "    <tr>\n",
       "      <th>LOG_DIS</th>\n",
       "      <td>0.592102</td>\n",
       "      <td>-0.762026</td>\n",
       "      <td>-0.085063</td>\n",
       "      <td>0.252349</td>\n",
       "      <td>-0.779027</td>\n",
       "      <td>-0.557756</td>\n",
       "      <td>-0.615545</td>\n",
       "      <td>-0.239420</td>\n",
       "      <td>0.324109</td>\n",
       "      <td>0.279463</td>\n",
       "      <td>-0.745070</td>\n",
       "      <td>-0.861121</td>\n",
       "      <td>1.000000</td>\n",
       "      <td>-0.523529</td>\n",
       "    </tr>\n",
       "    <tr>\n",
       "      <th>LOG_LSTAT</th>\n",
       "      <td>-0.476598</td>\n",
       "      <td>0.592158</td>\n",
       "      <td>-0.076413</td>\n",
       "      <td>-0.647223</td>\n",
       "      <td>0.587553</td>\n",
       "      <td>0.441893</td>\n",
       "      <td>0.506976</td>\n",
       "      <td>0.437964</td>\n",
       "      <td>-0.340087</td>\n",
       "      <td>-0.732277</td>\n",
       "      <td>0.583992</td>\n",
       "      <td>0.584957</td>\n",
       "      <td>-0.523529</td>\n",
       "      <td>1.000000</td>\n",
       "    </tr>\n",
       "  </tbody>\n",
       "</table>\n",
       "</div>"
      ],
      "text/plain": [
       "                 ZN     INDUS      CHAS        RM       AGE       RAD  \\\n",
       "ZN         1.000000 -0.536888 -0.041824  0.307812 -0.567952 -0.309652   \n",
       "INDUS     -0.536888  1.000000  0.061746 -0.392193  0.644182  0.594344   \n",
       "CHAS      -0.041824  0.061746  1.000000  0.089952  0.086664 -0.006803   \n",
       "RM         0.307812 -0.392193  0.089952  1.000000 -0.237335 -0.213078   \n",
       "AGE       -0.567952  0.644182  0.086664 -0.237335  1.000000  0.456212   \n",
       "RAD       -0.309652  0.594344 -0.006803 -0.213078  0.456212  1.000000   \n",
       "TAX       -0.312901  0.718784 -0.035770 -0.293969  0.505186  0.910898   \n",
       "PTRATIO   -0.394101  0.378739 -0.124780 -0.339755  0.261170  0.441336   \n",
       "B          0.176625 -0.357787  0.050143  0.127888 -0.273739 -0.441338   \n",
       "MEDV       0.339327 -0.466094  0.164175  0.667695 -0.366717 -0.382068   \n",
       "LOG_CRIM  -0.518700  0.731303  0.027068 -0.306748  0.657852  0.850577   \n",
       "LOG_NOX   -0.570194  0.779443  0.081730 -0.303604  0.764641  0.623151   \n",
       "LOG_DIS    0.592102 -0.762026 -0.085063  0.252349 -0.779027 -0.557756   \n",
       "LOG_LSTAT -0.476598  0.592158 -0.076413 -0.647223  0.587553  0.441893   \n",
       "\n",
       "                TAX   PTRATIO         B      MEDV  LOG_CRIM   LOG_NOX  \\\n",
       "ZN        -0.312901 -0.394101  0.176625  0.339327 -0.518700 -0.570194   \n",
       "INDUS      0.718784  0.378739 -0.357787 -0.466094  0.731303  0.779443   \n",
       "CHAS      -0.035770 -0.124780  0.050143  0.164175  0.027068  0.081730   \n",
       "RM        -0.293969 -0.339755  0.127888  0.667695 -0.306748 -0.303604   \n",
       "AGE        0.505186  0.261170 -0.273739 -0.366717  0.657852  0.764641   \n",
       "RAD        0.910898  0.441336 -0.441338 -0.382068  0.850577  0.623151   \n",
       "TAX        1.000000  0.442510 -0.439917 -0.461959  0.826064  0.675883   \n",
       "PTRATIO    0.442510  1.000000 -0.176542 -0.451117  0.384941  0.228689   \n",
       "B         -0.439917 -0.176542  1.000000  0.319851 -0.477505 -0.379053   \n",
       "MEDV      -0.461959 -0.451117  0.319851  1.000000 -0.439553 -0.414457   \n",
       "LOG_CRIM   0.826064  0.384941 -0.477505 -0.439553  1.000000  0.806653   \n",
       "LOG_NOX    0.675883  0.228689 -0.379053 -0.414457  0.806653  1.000000   \n",
       "LOG_DIS   -0.615545 -0.239420  0.324109  0.279463 -0.745070 -0.861121   \n",
       "LOG_LSTAT  0.506976  0.437964 -0.340087 -0.732277  0.583992  0.584957   \n",
       "\n",
       "            LOG_DIS  LOG_LSTAT  \n",
       "ZN         0.592102  -0.476598  \n",
       "INDUS     -0.762026   0.592158  \n",
       "CHAS      -0.085063  -0.076413  \n",
       "RM         0.252349  -0.647223  \n",
       "AGE       -0.779027   0.587553  \n",
       "RAD       -0.557756   0.441893  \n",
       "TAX       -0.615545   0.506976  \n",
       "PTRATIO   -0.239420   0.437964  \n",
       "B          0.324109  -0.340087  \n",
       "MEDV       0.279463  -0.732277  \n",
       "LOG_CRIM  -0.745070   0.583992  \n",
       "LOG_NOX   -0.861121   0.584957  \n",
       "LOG_DIS    1.000000  -0.523529  \n",
       "LOG_LSTAT -0.523529   1.000000  "
      ]
     },
     "execution_count": 15,
     "metadata": {},
     "output_type": "execute_result"
    }
   ],
   "source": [
    "corr_matrix"
   ]
  },
  {
   "cell_type": "code",
   "execution_count": 16,
   "metadata": {},
   "outputs": [
    {
     "data": {
      "image/png": "[encoded data removed]",
      "text/plain": [
       "<Figure size 1080x720 with 2 Axes>"
      ]
     },
     "metadata": {
      "needs_background": "light"
     },
     "output_type": "display_data"
    }
   ],
   "source": [
    "plt.figure(figsize=(15,10))\n",
    "sns.heatmap(corr_matrix, cmap='RdBu_r', center=0.0) \n",
    "plt.title('Correlations',fontsize=16)\n",
    "plt.show()"
   ]
  },
  {
   "cell_type": "markdown",
   "metadata": {},
   "source": [
    "BASE MODELS"
   ]
  },
  {
   "cell_type": "markdown",
   "metadata": {},
   "source": [
    "LINEAR REGRESSION,LASSO REGRESSION, RIDGE REGRESSION , SUPPORT VECTOR MACHINE REGRESSION."
   ]
  },
  {
   "cell_type": "code",
   "execution_count": 17,
   "metadata": {},
   "outputs": [],
   "source": [
    "from sklearn.pipeline import Pipeline\n",
    "from sklearn.preprocessing import StandardScaler"
   ]
  },
  {
   "cell_type": "code",
   "execution_count": 18,
   "metadata": {},
   "outputs": [],
   "source": [
    "pipe_lr = Pipeline([('scl', StandardScaler()),\n",
    "                    ('reg', LinearRegression())])\n",
    "pipe_lasso = Pipeline([('scl', StandardScaler()),\n",
    "                    ('reg', Lasso())])\n",
    "pipe_ridge = Pipeline([('scl', StandardScaler()),\n",
    "                    ('reg', Ridge())])\n",
    "\n",
    "pipe_svr = Pipeline([('scl', StandardScaler()),\n",
    "                     ('reg', SVR())])"
   ]
  },
  {
   "cell_type": "code",
   "execution_count": 19,
   "metadata": {},
   "outputs": [],
   "source": [
    "X=data.drop('MEDV', axis=1)"
   ]
  },
  {
   "cell_type": "code",
   "execution_count": 20,
   "metadata": {},
   "outputs": [],
   "source": [
    "y=data['MEDV']"
   ]
  },
  {
   "cell_type": "code",
   "execution_count": 21,
   "metadata": {},
   "outputs": [],
   "source": [
    "X_train, X_test, y_train, y_test = train_test_split(X, y, test_size=0.3, random_state=42)\n"
   ]
  },
  {
   "cell_type": "code",
   "execution_count": 22,
   "metadata": {},
   "outputs": [],
   "source": [
    "pipelines = [pipe_lr, pipe_lasso,pipe_ridge, pipe_svr]"
   ]
  },
  {
   "cell_type": "code",
   "execution_count": 23,
   "metadata": {},
   "outputs": [],
   "source": [
    "pipe_dict = {0: 'Linear Regression', 1: 'Lasso Regression', 2: 'Ridge Regression', 3:'Support Vector Regression'}\n"
   ]
  },
  {
   "cell_type": "code",
   "execution_count": 24,
   "metadata": {},
   "outputs": [],
   "source": [
    "for pipe in pipelines:\n",
    "\tpipe.fit(X_train, y_train)"
   ]
  },
  {
   "cell_type": "code",
   "execution_count": 25,
   "metadata": {},
   "outputs": [
    {
     "name": "stdout",
     "output_type": "stream",
     "text": [
      "Linear Regression pipeline test accuracy: 4.292\n",
      "Lasso Regression pipeline test accuracy: 4.850\n",
      "Ridge Regression pipeline test accuracy: 4.290\n",
      "Support Vector Regression pipeline test accuracy: 4.621\n"
     ]
    }
   ],
   "source": [
    "for idx, val in enumerate(pipelines):\n",
    "    pred = val.predict(X_test)\n",
    "    print('%s pipeline test accuracy: %.3f' % (pipe_dict[idx], np.sqrt(mean_squared_error(y_test, pred))))"
   ]
  },
  {
   "cell_type": "markdown",
   "metadata": {},
   "source": [
    "Choosing the top three models for hyperparameter tuning"
   ]
  },
  {
   "cell_type": "markdown",
   "metadata": {},
   "source": [
    "RIDGE"
   ]
  },
  {
   "cell_type": "code",
   "execution_count": 26,
   "metadata": {},
   "outputs": [],
   "source": [
    "model = Ridge()"
   ]
  },
  {
   "cell_type": "code",
   "execution_count": 27,
   "metadata": {},
   "outputs": [],
   "source": [
    "cv = RepeatedKFold(n_splits=10, n_repeats=3, random_state=1)"
   ]
  },
  {
   "cell_type": "code",
   "execution_count": 28,
   "metadata": {},
   "outputs": [],
   "source": [
    "grid = dict()\n",
    "grid['alpha'] = np.arange(0, 10, 0.01)"
   ]
  },
  {
   "cell_type": "code",
   "execution_count": 29,
   "metadata": {},
   "outputs": [
    {
     "name": "stdout",
     "output_type": "stream",
     "text": [
      "MAE: -3.480\n",
      "Config: {'alpha': 1.71}\n"
     ]
    },
    {
     "name": "stderr",
     "output_type": "stream",
     "text": [
      "C:\\Users\\user\\Anaconda3\\lib\\site-packages\\sklearn\\model_selection\\_search.py:813: DeprecationWarning: The default of the `iid` parameter will change from True to False in version 0.22 and will be removed in 0.24. This will change numeric results when test-set sizes are unequal.\n",
      "  DeprecationWarning)\n"
     ]
    }
   ],
   "source": [
    "search = GridSearchCV(model, grid, scoring='neg_mean_absolute_error', cv=cv, n_jobs=-1)\n",
    "# perform the search\n",
    "results = search.fit(X, y)\n",
    "# summarize\n",
    "print('MAE: %.3f' % results.best_score_)\n",
    "print('Config: %s' % results.best_params_)"
   ]
  },
  {
   "cell_type": "markdown",
   "metadata": {},
   "source": [
    "LINEAR REGRESSION"
   ]
  },
  {
   "cell_type": "code",
   "execution_count": 30,
   "metadata": {},
   "outputs": [],
   "source": [
    "model2=LinearRegression()"
   ]
  },
  {
   "cell_type": "code",
   "execution_count": 31,
   "metadata": {},
   "outputs": [],
   "source": [
    "cv = RepeatedKFold(n_splits=10, n_repeats=3, random_state=1)"
   ]
  },
  {
   "cell_type": "code",
   "execution_count": 32,
   "metadata": {},
   "outputs": [],
   "source": [
    "c_space = np.logspace(-5, 8, 15) \n",
    "param = {'n_jobs': c_space} "
   ]
  },
  {
   "cell_type": "code",
   "execution_count": 33,
   "metadata": {},
   "outputs": [
    {
     "name": "stdout",
     "output_type": "stream",
     "text": [
      "MAE: -3.486\n",
      "Config: {'n_jobs': 1e-05}\n"
     ]
    },
    {
     "name": "stderr",
     "output_type": "stream",
     "text": [
      "C:\\Users\\user\\Anaconda3\\lib\\site-packages\\sklearn\\model_selection\\_search.py:813: DeprecationWarning: The default of the `iid` parameter will change from True to False in version 0.22 and will be removed in 0.24. This will change numeric results when test-set sizes are unequal.\n",
      "  DeprecationWarning)\n"
     ]
    }
   ],
   "source": [
    "search = GridSearchCV(model2, param, scoring='neg_mean_absolute_error', cv=cv, n_jobs=-1)\n",
    "# perform the search\n",
    "results = search.fit(X, y)\n",
    "# summarize\n",
    "print('MAE: %.3f' % results.best_score_)\n",
    "print('Config: %s' % results.best_params_)"
   ]
  },
  {
   "cell_type": "markdown",
   "metadata": {},
   "source": [
    "SVR"
   ]
  },
  {
   "cell_type": "code",
   "execution_count": 34,
   "metadata": {},
   "outputs": [],
   "source": [
    "svr = SVR(kernel='rbf')"
   ]
  },
  {
   "cell_type": "code",
   "execution_count": 35,
   "metadata": {},
   "outputs": [],
   "source": [
    "c=np.arange(50, 101, 10)"
   ]
  },
  {
   "cell_type": "code",
   "execution_count": 36,
   "metadata": {},
   "outputs": [],
   "source": [
    "gamma=np.arange(0.01,0.11, 0.01)"
   ]
  },
  {
   "cell_type": "code",
   "execution_count": 37,
   "metadata": {},
   "outputs": [],
   "source": [
    "epsilon= np.arange(0.1, 10, 1)"
   ]
  },
  {
   "cell_type": "code",
   "execution_count": 38,
   "metadata": {},
   "outputs": [
    {
     "data": {
      "text/plain": [
       "array([0.01, 0.02, 0.03, 0.04, 0.05, 0.06, 0.07, 0.08, 0.09, 0.1 ])"
      ]
     },
     "execution_count": 38,
     "metadata": {},
     "output_type": "execute_result"
    }
   ],
   "source": [
    "gamma"
   ]
  },
  {
   "cell_type": "code",
   "execution_count": 39,
   "metadata": {},
   "outputs": [],
   "source": [
    "par ={'C': c, 'gamma': gamma, 'epsilon':epsilon}"
   ]
  },
  {
   "cell_type": "code",
   "execution_count": 40,
   "metadata": {},
   "outputs": [
    {
     "name": "stdout",
     "output_type": "stream",
     "text": [
      "MAE: -5.028\n",
      "Config: {'C': 80, 'epsilon': 1.1, 'gamma': 0.01}\n"
     ]
    },
    {
     "name": "stderr",
     "output_type": "stream",
     "text": [
      "C:\\Users\\user\\Anaconda3\\lib\\site-packages\\sklearn\\model_selection\\_search.py:813: DeprecationWarning: The default of the `iid` parameter will change from True to False in version 0.22 and will be removed in 0.24. This will change numeric results when test-set sizes are unequal.\n",
      "  DeprecationWarning)\n"
     ]
    }
   ],
   "source": [
    "search = GridSearchCV(svr, par, scoring='neg_mean_absolute_error', cv=cv, n_jobs=-1)\n",
    "# perform the search\n",
    "results = search.fit(X, y)\n",
    "# summarize\n",
    "print('MAE: %.3f' % results.best_score_)\n",
    "print('Config: %s' % results.best_params_)"
   ]
  },
  {
   "cell_type": "markdown",
   "metadata": {},
   "source": [
    "Going for the lowest neg_mean_absolute_error . Svr is the choosen model."
   ]
  },
  {
   "cell_type": "markdown",
   "metadata": {},
   "source": [
    "## Training... before feature importance"
   ]
  },
  {
   "cell_type": "code",
   "execution_count": 41,
   "metadata": {},
   "outputs": [],
   "source": [
    "X=data.drop(['AGE','MEDV', 'ZN'], axis=1)"
   ]
  },
  {
   "cell_type": "code",
   "execution_count": 42,
   "metadata": {},
   "outputs": [],
   "source": [
    "y=data['MEDV']"
   ]
  },
  {
   "cell_type": "code",
   "execution_count": 43,
   "metadata": {},
   "outputs": [],
   "source": [
    "pipelin=Pipeline([\n",
    "    ('std_scaler', StandardScaler())\n",
    "])\n",
    "X_transformed=pipelin.fit_transform(X)"
   ]
  },
  {
   "cell_type": "code",
   "execution_count": 44,
   "metadata": {},
   "outputs": [],
   "source": [
    "from sklearn.model_selection import train_test_split\n",
    "X_train, X_test, y_train, y_test=train_test_split(X_transformed, y, test_size=0.3, random_state=42)"
   ]
  },
  {
   "cell_type": "code",
   "execution_count": 45,
   "metadata": {},
   "outputs": [],
   "source": [
    "svr2=SVR(kernel='rbf', C=100, gamma=0.1, epsilon=0.9)"
   ]
  },
  {
   "cell_type": "code",
   "execution_count": 46,
   "metadata": {},
   "outputs": [
    {
     "data": {
      "text/plain": [
       "SVR(C=100, cache_size=200, coef0=0.0, degree=3, epsilon=0.9, gamma=0.1,\n",
       "    kernel='rbf', max_iter=-1, shrinking=True, tol=0.001, verbose=False)"
      ]
     },
     "execution_count": 46,
     "metadata": {},
     "output_type": "execute_result"
    }
   ],
   "source": [
    "svr2.fit(X_train, y_train)"
   ]
  },
  {
   "cell_type": "code",
   "execution_count": 47,
   "metadata": {},
   "outputs": [],
   "source": [
    "pred=svr2.predict(X_test)"
   ]
  },
  {
   "cell_type": "code",
   "execution_count": 48,
   "metadata": {},
   "outputs": [],
   "source": [
    "final_mse=mean_squared_error(y_test,pred)\n",
    "final_rmse=np.sqrt(final_mse)"
   ]
  },
  {
   "cell_type": "code",
   "execution_count": 49,
   "metadata": {},
   "outputs": [
    {
     "data": {
      "text/plain": [
       "2.941466730130906"
      ]
     },
     "execution_count": 49,
     "metadata": {},
     "output_type": "execute_result"
    }
   ],
   "source": [
    "final_rmse"
   ]
  },
  {
   "cell_type": "markdown",
   "metadata": {},
   "source": [
    "## Feature_importance using Linear regression"
   ]
  },
  {
   "cell_type": "code",
   "execution_count": 50,
   "metadata": {},
   "outputs": [],
   "source": [
    "model3=LinearRegression()"
   ]
  },
  {
   "cell_type": "code",
   "execution_count": 51,
   "metadata": {},
   "outputs": [
    {
     "data": {
      "text/plain": [
       "LinearRegression(copy_X=True, fit_intercept=True, n_jobs=None, normalize=False)"
      ]
     },
     "execution_count": 51,
     "metadata": {},
     "output_type": "execute_result"
    }
   ],
   "source": [
    "model3.fit(X_train, y_train)"
   ]
  },
  {
   "cell_type": "code",
   "execution_count": 52,
   "metadata": {},
   "outputs": [],
   "source": [
    "importance = model3.coef_"
   ]
  },
  {
   "cell_type": "code",
   "execution_count": 53,
   "metadata": {},
   "outputs": [
    {
     "data": {
      "text/html": [
       "<div>\n",
       "<style scoped>\n",
       "    .dataframe tbody tr th:only-of-type {\n",
       "        vertical-align: middle;\n",
       "    }\n",
       "\n",
       "    .dataframe tbody tr th {\n",
       "        vertical-align: top;\n",
       "    }\n",
       "\n",
       "    .dataframe thead th {\n",
       "        text-align: right;\n",
       "    }\n",
       "</style>\n",
       "<table border=\"1\" class=\"dataframe\">\n",
       "  <thead>\n",
       "    <tr style=\"text-align: right;\">\n",
       "      <th></th>\n",
       "      <th>col</th>\n",
       "      <th>score</th>\n",
       "    </tr>\n",
       "  </thead>\n",
       "  <tbody>\n",
       "    <tr>\n",
       "      <th>0</th>\n",
       "      <td>ZN</td>\n",
       "      <td>-0.215417</td>\n",
       "    </tr>\n",
       "    <tr>\n",
       "      <th>1</th>\n",
       "      <td>INDUS</td>\n",
       "      <td>0.546743</td>\n",
       "    </tr>\n",
       "    <tr>\n",
       "      <th>2</th>\n",
       "      <td>CHAS</td>\n",
       "      <td>3.535126</td>\n",
       "    </tr>\n",
       "    <tr>\n",
       "      <th>3</th>\n",
       "      <td>RM</td>\n",
       "      <td>0.301533</td>\n",
       "    </tr>\n",
       "    <tr>\n",
       "      <th>4</th>\n",
       "      <td>AGE</td>\n",
       "      <td>-1.916053</td>\n",
       "    </tr>\n",
       "    <tr>\n",
       "      <th>5</th>\n",
       "      <td>RAD</td>\n",
       "      <td>-0.703617</td>\n",
       "    </tr>\n",
       "    <tr>\n",
       "      <th>6</th>\n",
       "      <td>TAX</td>\n",
       "      <td>1.105029</td>\n",
       "    </tr>\n",
       "    <tr>\n",
       "      <th>7</th>\n",
       "      <td>PTRATIO</td>\n",
       "      <td>0.750073</td>\n",
       "    </tr>\n",
       "    <tr>\n",
       "      <th>8</th>\n",
       "      <td>B</td>\n",
       "      <td>-1.924189</td>\n",
       "    </tr>\n",
       "    <tr>\n",
       "      <th>9</th>\n",
       "      <td>MEDV</td>\n",
       "      <td>-3.679906</td>\n",
       "    </tr>\n",
       "    <tr>\n",
       "      <th>10</th>\n",
       "      <td>LOG_CRIM</td>\n",
       "      <td>-3.706037</td>\n",
       "    </tr>\n",
       "    <tr>\n",
       "      <th>11</th>\n",
       "      <td>LOG_NOX</td>\n",
       "      <td>-0.815431</td>\n",
       "    </tr>\n",
       "  </tbody>\n",
       "</table>\n",
       "</div>"
      ],
      "text/plain": [
       "         col     score\n",
       "0         ZN -0.215417\n",
       "1      INDUS  0.546743\n",
       "2       CHAS  3.535126\n",
       "3         RM  0.301533\n",
       "4        AGE -1.916053\n",
       "5        RAD -0.703617\n",
       "6        TAX  1.105029\n",
       "7    PTRATIO  0.750073\n",
       "8          B -1.924189\n",
       "9       MEDV -3.679906\n",
       "10  LOG_CRIM -3.706037\n",
       "11   LOG_NOX -0.815431"
      ]
     },
     "execution_count": 53,
     "metadata": {},
     "output_type": "execute_result"
    }
   ],
   "source": [
    "col=[]\n",
    "score=[]\n",
    "for i,v in enumerate(importance):\n",
    "    col.append( data.columns[i])\n",
    "    score.append(v)\n",
    "feat_impo= {\n",
    "    'col':col,\n",
    "    'score':score\n",
    "}\n",
    "df = pd.DataFrame(feat_impo, columns = ['col', 'score'])\n",
    "df"
   ]
  },
  {
   "cell_type": "code",
   "execution_count": 54,
   "metadata": {},
   "outputs": [
    {
     "data": {
      "text/html": [
       "<div>\n",
       "<style scoped>\n",
       "    .dataframe tbody tr th:only-of-type {\n",
       "        vertical-align: middle;\n",
       "    }\n",
       "\n",
       "    .dataframe tbody tr th {\n",
       "        vertical-align: top;\n",
       "    }\n",
       "\n",
       "    .dataframe thead th {\n",
       "        text-align: right;\n",
       "    }\n",
       "</style>\n",
       "<table border=\"1\" class=\"dataframe\">\n",
       "  <thead>\n",
       "    <tr style=\"text-align: right;\">\n",
       "      <th></th>\n",
       "      <th>col</th>\n",
       "      <th>score</th>\n",
       "    </tr>\n",
       "  </thead>\n",
       "  <tbody>\n",
       "    <tr>\n",
       "      <th>10</th>\n",
       "      <td>LOG_CRIM</td>\n",
       "      <td>-3.706037</td>\n",
       "    </tr>\n",
       "    <tr>\n",
       "      <th>9</th>\n",
       "      <td>MEDV</td>\n",
       "      <td>-3.679906</td>\n",
       "    </tr>\n",
       "    <tr>\n",
       "      <th>8</th>\n",
       "      <td>B</td>\n",
       "      <td>-1.924189</td>\n",
       "    </tr>\n",
       "    <tr>\n",
       "      <th>4</th>\n",
       "      <td>AGE</td>\n",
       "      <td>-1.916053</td>\n",
       "    </tr>\n",
       "    <tr>\n",
       "      <th>11</th>\n",
       "      <td>LOG_NOX</td>\n",
       "      <td>-0.815431</td>\n",
       "    </tr>\n",
       "    <tr>\n",
       "      <th>5</th>\n",
       "      <td>RAD</td>\n",
       "      <td>-0.703617</td>\n",
       "    </tr>\n",
       "    <tr>\n",
       "      <th>0</th>\n",
       "      <td>ZN</td>\n",
       "      <td>-0.215417</td>\n",
       "    </tr>\n",
       "    <tr>\n",
       "      <th>3</th>\n",
       "      <td>RM</td>\n",
       "      <td>0.301533</td>\n",
       "    </tr>\n",
       "    <tr>\n",
       "      <th>1</th>\n",
       "      <td>INDUS</td>\n",
       "      <td>0.546743</td>\n",
       "    </tr>\n",
       "    <tr>\n",
       "      <th>7</th>\n",
       "      <td>PTRATIO</td>\n",
       "      <td>0.750073</td>\n",
       "    </tr>\n",
       "    <tr>\n",
       "      <th>6</th>\n",
       "      <td>TAX</td>\n",
       "      <td>1.105029</td>\n",
       "    </tr>\n",
       "    <tr>\n",
       "      <th>2</th>\n",
       "      <td>CHAS</td>\n",
       "      <td>3.535126</td>\n",
       "    </tr>\n",
       "  </tbody>\n",
       "</table>\n",
       "</div>"
      ],
      "text/plain": [
       "         col     score\n",
       "10  LOG_CRIM -3.706037\n",
       "9       MEDV -3.679906\n",
       "8          B -1.924189\n",
       "4        AGE -1.916053\n",
       "11   LOG_NOX -0.815431\n",
       "5        RAD -0.703617\n",
       "0         ZN -0.215417\n",
       "3         RM  0.301533\n",
       "1      INDUS  0.546743\n",
       "7    PTRATIO  0.750073\n",
       "6        TAX  1.105029\n",
       "2       CHAS  3.535126"
      ]
     },
     "execution_count": 54,
     "metadata": {},
     "output_type": "execute_result"
    }
   ],
   "source": [
    "df.sort_values(by=['score'])"
   ]
  },
  {
   "cell_type": "code",
   "execution_count": 55,
   "metadata": {},
   "outputs": [
    {
     "name": "stdout",
     "output_type": "stream",
     "text": [
      "Optimum number of features: 5\n",
      "Score with 5 features: 0.637864\n"
     ]
    }
   ],
   "source": [
    "#no of features\n",
    "from sklearn.feature_selection import RFE\n",
    "nof_list=np.arange(1,13)            \n",
    "high_score=0\n",
    "#Variable to store the optimum features\n",
    "nof=0           \n",
    "score_list =[]\n",
    "for n in range(len(nof_list)):\n",
    "    X_train, X_test, y_train, y_test = train_test_split(X,y, test_size = 0.3, random_state = 0)\n",
    "    model = LinearRegression()\n",
    "    rfe = RFE(model,nof_list[n])\n",
    "    X_train_rfe = rfe.fit_transform(X_train,y_train)\n",
    "    X_test_rfe = rfe.transform(X_test)\n",
    "    model.fit(X_train_rfe,y_train)\n",
    "    score = model.score(X_test_rfe,y_test)\n",
    "    score_list.append(score)\n",
    "    if(score>high_score):\n",
    "        high_score = score\n",
    "        nof = nof_list[n]\n",
    "print(\"Optimum number of features: %d\" %nof)\n",
    "print(\"Score with %d features: %f\" % (nof, high_score))"
   ]
  },
  {
   "cell_type": "code",
   "execution_count": 57,
   "metadata": {},
   "outputs": [
    {
     "name": "stdout",
     "output_type": "stream",
     "text": [
      "Index(['CHAS', 'RM', 'LOG_NOX', 'LOG_DIS', 'LOG_LSTAT'], dtype='object')\n"
     ]
    }
   ],
   "source": [
    "cols = list(X.columns)\n",
    "model = LinearRegression()\n",
    "#Initializing RFE model\n",
    "rfe = RFE(model, 5)             \n",
    "#Transforming data using RFE\n",
    "X_rfe = rfe.fit_transform(X,y)  \n",
    "#Fitting the data to model\n",
    "model.fit(X_rfe,y)              \n",
    "temp = pd.Series(rfe.support_,index = cols)\n",
    "selected_features_rfe = temp[temp==True].index\n",
    "print(selected_features_rfe)"
   ]
  },
  {
   "cell_type": "markdown",
   "metadata": {},
   "source": [
    "## Training after feature selection"
   ]
  },
  {
   "cell_type": "markdown",
   "metadata": {},
   "source": [
    "Droping the rest of the features and training with only five features"
   ]
  },
  {
   "cell_type": "code",
   "execution_count": 58,
   "metadata": {},
   "outputs": [],
   "source": [
    "X1=data.drop(['AGE','MEDV', 'ZN','INDUS', 'B','RAD','PTRATIO','LOG_CRIM','AGE_CUT','TAX'], axis=1)"
   ]
  },
  {
   "cell_type": "code",
   "execution_count": 59,
   "metadata": {},
   "outputs": [],
   "source": [
    "y=data['MEDV']"
   ]
  },
  {
   "cell_type": "code",
   "execution_count": 60,
   "metadata": {},
   "outputs": [],
   "source": [
    "pipelin=Pipeline([\n",
    "    ('std_scaler', StandardScaler())\n",
    "])\n",
    "X_transformed=pipelin.fit_transform(X1)"
   ]
  },
  {
   "cell_type": "code",
   "execution_count": 61,
   "metadata": {},
   "outputs": [],
   "source": [
    "from sklearn.model_selection import train_test_split\n",
    "X1_train, X1_test, y_train, y_test=train_test_split(X_transformed, y, test_size=0.3, random_state=42)"
   ]
  },
  {
   "cell_type": "code",
   "execution_count": 62,
   "metadata": {},
   "outputs": [],
   "source": [
    "svr3=SVR(kernel='rbf', C=100, gamma=0.1)"
   ]
  },
  {
   "cell_type": "code",
   "execution_count": 63,
   "metadata": {},
   "outputs": [
    {
     "data": {
      "text/plain": [
       "SVR(C=100, cache_size=200, coef0=0.0, degree=3, epsilon=0.1, gamma=0.1,\n",
       "    kernel='rbf', max_iter=-1, shrinking=True, tol=0.001, verbose=False)"
      ]
     },
     "execution_count": 63,
     "metadata": {},
     "output_type": "execute_result"
    }
   ],
   "source": [
    "svr3.fit(X_train, y_train)"
   ]
  },
  {
   "cell_type": "code",
   "execution_count": 64,
   "metadata": {},
   "outputs": [],
   "source": [
    "final_mse=mean_squared_error(y_test,pred)\n",
    "final_rme=np.sqrt(final_mse)"
   ]
  },
  {
   "cell_type": "code",
   "execution_count": 65,
   "metadata": {},
   "outputs": [
    {
     "data": {
      "text/plain": [
       "2.941466730130906"
      ]
     },
     "execution_count": 65,
     "metadata": {},
     "output_type": "execute_result"
    }
   ],
   "source": [
    "final_rme"
   ]
  },
  {
   "cell_type": "code",
   "execution_count": 67,
   "metadata": {},
   "outputs": [],
   "source": [
    "import pickle\n",
    "filename = 'finalized_model.sav'\n",
    "pickle.dump(model, open(filename, 'wb'))"
   ]
  },
  {
   "cell_type": "code",
   "execution_count": null,
   "metadata": {},
   "outputs": [],
   "source": []
  },
  {
   "cell_type": "code",
   "execution_count": null,
   "metadata": {},
   "outputs": [],
   "source": []
  }
 ],
 "metadata": {
  "kernelspec": {
   "display_name": "Python 3",
   "language": "python",
   "name": "python3"
  },
  "language_info": {
   "codemirror_mode": {
    "name": "ipython",
    "version": 3
   },
   "file_extension": ".py",
   "mimetype": "text/x-python",
   "name": "python",
   "nbconvert_exporter": "python",
   "pygments_lexer": "ipython3",
   "version": "3.7.3"
  }
 },
 "nbformat": 4,
 "nbformat_minor": 2
}
